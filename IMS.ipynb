{
  "nbformat": 4,
  "nbformat_minor": 0,
  "metadata": {
    "colab": {
      "name": "IMS.ipynb",
      "provenance": [],
      "collapsed_sections": [],
      "authorship_tag": "ABX9TyPdQcByrhlZoGWOOkoVeFMA",
      "include_colab_link": true
    },
    "kernelspec": {
      "name": "python3",
      "display_name": "Python 3"
    },
    "language_info": {
      "name": "python"
    }
  },
  "cells": [
    {
      "cell_type": "markdown",
      "metadata": {
        "id": "view-in-github",
        "colab_type": "text"
      },
      "source": [
        "<a href=\"https://colab.research.google.com/github/chiraglakra/ETG_IMS/blob/main/IMS.ipynb\" target=\"_parent\"><img src=\"https://colab.research.google.com/assets/colab-badge.svg\" alt=\"Open In Colab\"/></a>"
      ]
    },
    {
      "cell_type": "code",
      "metadata": {
        "id": "4AfCe8ecTLaB"
      },
      "source": [
        "grocery= {\n",
        "      1:{\"name\":\"Rajma                             \",\"price\":250,\"quantity\":10,\"category\":\"staples\",\"disc.\":22},\n",
        "      2:{\"name\":\"Sugar                             \",\"price\":100,\"quantity\":20,\"category\":\"staples\",\"disc.\":23},\n",
        "      3:{\"name\":\"Coffee                            \",\"price\":300,\"quantity\":20,\"category\":\"staples\",\"disc.\":30},\n",
        "      4:{\"name\":\"Chana                             \",\"price\":80,\"quantity\":10,\"category\":\"staple\",\"disc.\":0},\n",
        "      5:{\"name\":\"Refined oil                       \",\"price\":180,\"quantity\":10,\"category\":\"staples\",\"disc.\":14},\n",
        "      6:{\"name\":\"Cashews                           \",\"price\":600,\"quantity\":3,\"category\":\"staples\",\"disc.\":34},\n",
        "      7:{\"name\":\"Rice Flour                        \",\"price\":500,\"quantity\":10,\"category\":\"staples\",\"disc.\":0},\n",
        "      8:{\"name\":\"Wheat Atta                        \",\"price\":200,\"quantity\":5,\"category\":\"staples\",\"disc.\":0},\n",
        "      9:{\"name\":\"Chaat masala                      \",\"price\":50,\"quantity\":10,\"category\":\"staples\",\"disc.\":0},\n",
        "      10:{\"name\":\"Chilli Powder                    \",\"price\":160,\"quantity\":24,\"category\":\"staples\",\"disc.\":10},\n",
        "      11:{\"name\":\"Sandalwood face wash             \",\"price\":227,\"quantity\":8,\"category\":\"personl care\",\"disc.\":20},\n",
        "      12:{\"name\":\"Dettol Hand Wash                 \",\"price\":88,\"quantity\":10,\"category\":\"personal care\",\"disc.\":15},\n",
        "      13:{\"name\":\"Himalaya scrub                   \",\"price\":173,\"quantity\":10,\"category\":\"personal care\",\"disc.\":35},\n",
        "      14:{\"name\":\"Cinthol soap                     \",\"price\":100,\"quantity\":3,\"category\":\"personal care\",\"disc.\":15},\n",
        "      15:{\"name\":\"Coconut HairOil                  \",\"price\":150,\"quantity\":10,\"category\":\"personal care\",\"disc.\":25},\n",
        "      16:{\"name\":\"Head & Shoulders shampoo         \",\"price\":227,\"quantity\":8,\"category\":\"personl care\",\"disc.\":11},\n",
        "      17:{\"name\":\"Colgate Tooothpaste              \",\"price\":300,\"quantity\":4,\"category\":\"personal care\",\"disc.\":17},\n",
        "      18:{\"name\":\"Axe Body Spray                   \",\"price\":150,\"quantity\":15,\"category\":\"personal care\",\"disc.\":0},\n",
        "      19:{\"name\":\"Nivea Moisture Body Lotion       \",\"price\":340,\"quantity\":20,\"category\":\"personal care\",\"disc.\":25},\n",
        "      20:{\"name\":\"Johnson's Baby soap              \",\"price\":250,\"quantity\":3,\"category\":\"personal care\",\"disc.\":50},\n",
        "      21:{\"name\":\"Surf excel matic detergent       \",\"price\":200,\"quantity\":18,\"category\":\"Household Care\",\"disc.\":40},\n",
        "      22:{\"name\":\"Pril dishwash liquid             \",\"price\":40,\"quantity\":3,\"category\":\"Household Care\",\"disc.\":14},\n",
        "      23:{\"name\":\"ALL Out Mosquito Refill          \",\"price\":270,\"quantity\":3,\"category\":\"Household Care\",\"disc.\":20},\n",
        "      24:{\"name\":\"Bourbon Biscuits                 \",\"price\":60,\"quantity\":5,\"category\":\"Snacks & Beverages\",\"disc.\":32},\n",
        "      25:{\"name\":\"Parle Rusk                       \",\"price\":50,\"quantity\":27,\"category\":\"Snacks & Beverages\",\"disc.\":12},\n",
        "      26:{\"name\":\"Kurkure                          \",\"price\":30,\"quantity\":19,\"category\":\"Snacks & Beverages\",\"disc.\":34},\n",
        "      27:{\"name\":\"Lipton Green Tea                 \",\"price\":120,\"quantity\":13,\"category\":\"Snacks & Beverages\",\"disc.\":0},\n",
        "      28:{\"name\":\"Moong dal                        \",\"price\":250,\"quantity\":11,\"category\":\"Snacks & Beverages\",\"disc.\":25},\n",
        "      29:{\"name\":\"Coca-Cola                        \",\"price\":30,\"quantity\":10,\"category\":\"Snacks & Beverages\",\"disc.\":0},\n",
        "      30:{\"name\":\"Glucon-D                         \",\"price\":109,\"quantity\":18,\"category\":\"Snacks & Beverages\",\"disc.\":54}}"
      ],
      "execution_count": 109,
      "outputs": []
    },
    {
      "cell_type": "code",
      "metadata": {
        "colab": {
          "base_uri": "https://localhost:8080/",
          "height": 443
        },
        "id": "VmtSijm5TOmd",
        "outputId": "156a985c-4bf5-482f-c0b1-84705dadd15d"
      },
      "source": [
        "import json\n",
        "js=json.dumps(grocery)\n",
        "js"
      ],
      "execution_count": 110,
      "outputs": [
        {
          "output_type": "execute_result",
          "data": {
            "application/vnd.google.colaboratory.intrinsic+json": {
              "type": "string"
            },
            "text/plain": [
              "'{\"1\": {\"name\": \"Rajma                             \", \"price\": 250, \"quantity\": 10, \"category\": \"staples\", \"disc.\": 22}, \"2\": {\"name\": \"Sugar                             \", \"price\": 100, \"quantity\": 20, \"category\": \"staples\", \"disc.\": 23}, \"3\": {\"name\": \"Coffee                            \", \"price\": 300, \"quantity\": 20, \"category\": \"staples\", \"disc.\": 30}, \"4\": {\"name\": \"Chana                             \", \"price\": 80, \"quantity\": 10, \"category\": \"staple\", \"disc.\": 0}, \"5\": {\"name\": \"Refined oil                       \", \"price\": 180, \"quantity\": 10, \"category\": \"staples\", \"disc.\": 14}, \"6\": {\"name\": \"Cashews                           \", \"price\": 600, \"quantity\": 3, \"category\": \"staples\", \"disc.\": 34}, \"7\": {\"name\": \"Rice Flour                        \", \"price\": 500, \"quantity\": 10, \"category\": \"staples\", \"disc.\": 0}, \"8\": {\"name\": \"Wheat Atta                        \", \"price\": 200, \"quantity\": 5, \"category\": \"staples\", \"disc.\": 0}, \"9\": {\"name\": \"Chaat masala                      \", \"price\": 50, \"quantity\": 10, \"category\": \"staples\", \"disc.\": 0}, \"10\": {\"name\": \"Chilli Powder                    \", \"price\": 160, \"quantity\": 24, \"category\": \"staples\", \"disc.\": 10}, \"11\": {\"name\": \"Sandalwood face wash             \", \"price\": 227, \"quantity\": 8, \"category\": \"personl care\", \"disc.\": 20}, \"12\": {\"name\": \"Dettol Hand Wash                 \", \"price\": 88, \"quantity\": 10, \"category\": \"personal care\", \"disc.\": 15}, \"13\": {\"name\": \"Himalaya scrub                   \", \"price\": 173, \"quantity\": 10, \"category\": \"personal care\", \"disc.\": 35}, \"14\": {\"name\": \"Cinthol soap                     \", \"price\": 100, \"quantity\": 3, \"category\": \"personal care\", \"disc.\": 15}, \"15\": {\"name\": \"Coconut HairOil                  \", \"price\": 150, \"quantity\": 10, \"category\": \"personal care\", \"disc.\": 25}, \"16\": {\"name\": \"Head & Shoulders shampoo         \", \"price\": 227, \"quantity\": 8, \"category\": \"personl care\", \"disc.\": 11}, \"17\": {\"name\": \"Colgate Tooothpaste              \", \"price\": 300, \"quantity\": 4, \"category\": \"personal care\", \"disc.\": 17}, \"18\": {\"name\": \"Axe Body Spray                   \", \"price\": 150, \"quantity\": 15, \"category\": \"personal care\", \"disc.\": 0}, \"19\": {\"name\": \"Nivea Moisture Body Lotion       \", \"price\": 340, \"quantity\": 20, \"category\": \"personal care\", \"disc.\": 25}, \"20\": {\"name\": \"Johnson\\'s Baby soap              \", \"price\": 250, \"quantity\": 3, \"category\": \"personal care\", \"disc.\": 50}, \"21\": {\"name\": \"Surf excel matic detergent       \", \"price\": 200, \"quantity\": 18, \"category\": \"Household Care\", \"disc.\": 40}, \"22\": {\"name\": \"Pril dishwash liquid             \", \"price\": 40, \"quantity\": 3, \"category\": \"Household Care\", \"disc.\": 14}, \"23\": {\"name\": \"ALL Out Mosquito Refill          \", \"price\": 270, \"quantity\": 3, \"category\": \"Household Care\", \"disc.\": 20}, \"24\": {\"name\": \"Bourbon Biscuits                 \", \"price\": 60, \"quantity\": 5, \"category\": \"Snacks & Beverages\", \"disc.\": 32}, \"25\": {\"name\": \"Parle Rusk                       \", \"price\": 50, \"quantity\": 27, \"category\": \"Snacks & Beverages\", \"disc.\": 12}, \"26\": {\"name\": \"Kurkure                          \", \"price\": 30, \"quantity\": 19, \"category\": \"Snacks & Beverages\", \"disc.\": 34}, \"27\": {\"name\": \"Lipton Green Tea                 \", \"price\": 120, \"quantity\": 13, \"category\": \"Snacks & Beverages\", \"disc.\": 0}, \"28\": {\"name\": \"Moong dal                        \", \"price\": 250, \"quantity\": 11, \"category\": \"Snacks & Beverages\", \"disc.\": 25}, \"29\": {\"name\": \"Coca-Cola                        \", \"price\": 30, \"quantity\": 10, \"category\": \"Snacks & Beverages\", \"disc.\": 0}, \"30\": {\"name\": \"Glucon-D                         \", \"price\": 109, \"quantity\": 18, \"category\": \"Snacks & Beverages\", \"disc.\": 54}}'"
            ]
          },
          "metadata": {},
          "execution_count": 110
        }
      ]
    },
    {
      "cell_type": "code",
      "metadata": {
        "colab": {
          "base_uri": "https://localhost:8080/"
        },
        "id": "uweo19huTOpW",
        "outputId": "a99d9362-e353-47cb-bd7c-21d68780812c"
      },
      "source": [
        "grocery"
      ],
      "execution_count": 111,
      "outputs": [
        {
          "output_type": "execute_result",
          "data": {
            "text/plain": [
              "{1: {'category': 'staples',\n",
              "  'disc.': 22,\n",
              "  'name': 'Rajma                             ',\n",
              "  'price': 250,\n",
              "  'quantity': 10},\n",
              " 2: {'category': 'staples',\n",
              "  'disc.': 23,\n",
              "  'name': 'Sugar                             ',\n",
              "  'price': 100,\n",
              "  'quantity': 20},\n",
              " 3: {'category': 'staples',\n",
              "  'disc.': 30,\n",
              "  'name': 'Coffee                            ',\n",
              "  'price': 300,\n",
              "  'quantity': 20},\n",
              " 4: {'category': 'staple',\n",
              "  'disc.': 0,\n",
              "  'name': 'Chana                             ',\n",
              "  'price': 80,\n",
              "  'quantity': 10},\n",
              " 5: {'category': 'staples',\n",
              "  'disc.': 14,\n",
              "  'name': 'Refined oil                       ',\n",
              "  'price': 180,\n",
              "  'quantity': 10},\n",
              " 6: {'category': 'staples',\n",
              "  'disc.': 34,\n",
              "  'name': 'Cashews                           ',\n",
              "  'price': 600,\n",
              "  'quantity': 3},\n",
              " 7: {'category': 'staples',\n",
              "  'disc.': 0,\n",
              "  'name': 'Rice Flour                        ',\n",
              "  'price': 500,\n",
              "  'quantity': 10},\n",
              " 8: {'category': 'staples',\n",
              "  'disc.': 0,\n",
              "  'name': 'Wheat Atta                        ',\n",
              "  'price': 200,\n",
              "  'quantity': 5},\n",
              " 9: {'category': 'staples',\n",
              "  'disc.': 0,\n",
              "  'name': 'Chaat masala                      ',\n",
              "  'price': 50,\n",
              "  'quantity': 10},\n",
              " 10: {'category': 'staples',\n",
              "  'disc.': 10,\n",
              "  'name': 'Chilli Powder                    ',\n",
              "  'price': 160,\n",
              "  'quantity': 24},\n",
              " 11: {'category': 'personl care',\n",
              "  'disc.': 20,\n",
              "  'name': 'Sandalwood face wash             ',\n",
              "  'price': 227,\n",
              "  'quantity': 8},\n",
              " 12: {'category': 'personal care',\n",
              "  'disc.': 15,\n",
              "  'name': 'Dettol Hand Wash                 ',\n",
              "  'price': 88,\n",
              "  'quantity': 10},\n",
              " 13: {'category': 'personal care',\n",
              "  'disc.': 35,\n",
              "  'name': 'Himalaya scrub                   ',\n",
              "  'price': 173,\n",
              "  'quantity': 10},\n",
              " 14: {'category': 'personal care',\n",
              "  'disc.': 15,\n",
              "  'name': 'Cinthol soap                     ',\n",
              "  'price': 100,\n",
              "  'quantity': 3},\n",
              " 15: {'category': 'personal care',\n",
              "  'disc.': 25,\n",
              "  'name': 'Coconut HairOil                  ',\n",
              "  'price': 150,\n",
              "  'quantity': 10},\n",
              " 16: {'category': 'personl care',\n",
              "  'disc.': 11,\n",
              "  'name': 'Head & Shoulders shampoo         ',\n",
              "  'price': 227,\n",
              "  'quantity': 8},\n",
              " 17: {'category': 'personal care',\n",
              "  'disc.': 17,\n",
              "  'name': 'Colgate Tooothpaste              ',\n",
              "  'price': 300,\n",
              "  'quantity': 4},\n",
              " 18: {'category': 'personal care',\n",
              "  'disc.': 0,\n",
              "  'name': 'Axe Body Spray                   ',\n",
              "  'price': 150,\n",
              "  'quantity': 15},\n",
              " 19: {'category': 'personal care',\n",
              "  'disc.': 25,\n",
              "  'name': 'Nivea Moisture Body Lotion       ',\n",
              "  'price': 340,\n",
              "  'quantity': 20},\n",
              " 20: {'category': 'personal care',\n",
              "  'disc.': 50,\n",
              "  'name': \"Johnson's Baby soap              \",\n",
              "  'price': 250,\n",
              "  'quantity': 3},\n",
              " 21: {'category': 'Household Care',\n",
              "  'disc.': 40,\n",
              "  'name': 'Surf excel matic detergent       ',\n",
              "  'price': 200,\n",
              "  'quantity': 18},\n",
              " 22: {'category': 'Household Care',\n",
              "  'disc.': 14,\n",
              "  'name': 'Pril dishwash liquid             ',\n",
              "  'price': 40,\n",
              "  'quantity': 3},\n",
              " 23: {'category': 'Household Care',\n",
              "  'disc.': 20,\n",
              "  'name': 'ALL Out Mosquito Refill          ',\n",
              "  'price': 270,\n",
              "  'quantity': 3},\n",
              " 24: {'category': 'Snacks & Beverages',\n",
              "  'disc.': 32,\n",
              "  'name': 'Bourbon Biscuits                 ',\n",
              "  'price': 60,\n",
              "  'quantity': 5},\n",
              " 25: {'category': 'Snacks & Beverages',\n",
              "  'disc.': 12,\n",
              "  'name': 'Parle Rusk                       ',\n",
              "  'price': 50,\n",
              "  'quantity': 27},\n",
              " 26: {'category': 'Snacks & Beverages',\n",
              "  'disc.': 34,\n",
              "  'name': 'Kurkure                          ',\n",
              "  'price': 30,\n",
              "  'quantity': 19},\n",
              " 27: {'category': 'Snacks & Beverages',\n",
              "  'disc.': 0,\n",
              "  'name': 'Lipton Green Tea                 ',\n",
              "  'price': 120,\n",
              "  'quantity': 13},\n",
              " 28: {'category': 'Snacks & Beverages',\n",
              "  'disc.': 25,\n",
              "  'name': 'Moong dal                        ',\n",
              "  'price': 250,\n",
              "  'quantity': 11},\n",
              " 29: {'category': 'Snacks & Beverages',\n",
              "  'disc.': 0,\n",
              "  'name': 'Coca-Cola                        ',\n",
              "  'price': 30,\n",
              "  'quantity': 10},\n",
              " 30: {'category': 'Snacks & Beverages',\n",
              "  'disc.': 54,\n",
              "  'name': 'Glucon-D                         ',\n",
              "  'price': 109,\n",
              "  'quantity': 18}}"
            ]
          },
          "metadata": {},
          "execution_count": 111
        }
      ]
    },
    {
      "cell_type": "code",
      "metadata": {
        "id": "ue2WYDx9UPqJ"
      },
      "source": [
        "fd=open(\"grocery.json\",'w')\n",
        "fd.write(js)\n",
        "fd.close()"
      ],
      "execution_count": 112,
      "outputs": []
    },
    {
      "cell_type": "code",
      "metadata": {
        "id": "fVK_xaXDUP2E"
      },
      "source": [
        "fd=open(\"grocery.json\",'r')\n",
        "txt=fd.read()\n",
        "fd.close()"
      ],
      "execution_count": 113,
      "outputs": []
    },
    {
      "cell_type": "code",
      "metadata": {
        "id": "l_NR4wH5UP5B"
      },
      "source": [
        "grocery=json.loads(txt)"
      ],
      "execution_count": 114,
      "outputs": []
    },
    {
      "cell_type": "code",
      "metadata": {
        "colab": {
          "base_uri": "https://localhost:8080/"
        },
        "id": "CPNQCgINUP70",
        "outputId": "0ac749b0-e5c1-46c2-fadc-d88a50afe7fb"
      },
      "source": [
        "grocery"
      ],
      "execution_count": 115,
      "outputs": [
        {
          "output_type": "execute_result",
          "data": {
            "text/plain": [
              "{'1': {'category': 'staples',\n",
              "  'disc.': 22,\n",
              "  'name': 'Rajma                             ',\n",
              "  'price': 250,\n",
              "  'quantity': 10},\n",
              " '10': {'category': 'staples',\n",
              "  'disc.': 10,\n",
              "  'name': 'Chilli Powder                    ',\n",
              "  'price': 160,\n",
              "  'quantity': 24},\n",
              " '11': {'category': 'personl care',\n",
              "  'disc.': 20,\n",
              "  'name': 'Sandalwood face wash             ',\n",
              "  'price': 227,\n",
              "  'quantity': 8},\n",
              " '12': {'category': 'personal care',\n",
              "  'disc.': 15,\n",
              "  'name': 'Dettol Hand Wash                 ',\n",
              "  'price': 88,\n",
              "  'quantity': 10},\n",
              " '13': {'category': 'personal care',\n",
              "  'disc.': 35,\n",
              "  'name': 'Himalaya scrub                   ',\n",
              "  'price': 173,\n",
              "  'quantity': 10},\n",
              " '14': {'category': 'personal care',\n",
              "  'disc.': 15,\n",
              "  'name': 'Cinthol soap                     ',\n",
              "  'price': 100,\n",
              "  'quantity': 3},\n",
              " '15': {'category': 'personal care',\n",
              "  'disc.': 25,\n",
              "  'name': 'Coconut HairOil                  ',\n",
              "  'price': 150,\n",
              "  'quantity': 10},\n",
              " '16': {'category': 'personl care',\n",
              "  'disc.': 11,\n",
              "  'name': 'Head & Shoulders shampoo         ',\n",
              "  'price': 227,\n",
              "  'quantity': 8},\n",
              " '17': {'category': 'personal care',\n",
              "  'disc.': 17,\n",
              "  'name': 'Colgate Tooothpaste              ',\n",
              "  'price': 300,\n",
              "  'quantity': 4},\n",
              " '18': {'category': 'personal care',\n",
              "  'disc.': 0,\n",
              "  'name': 'Axe Body Spray                   ',\n",
              "  'price': 150,\n",
              "  'quantity': 15},\n",
              " '19': {'category': 'personal care',\n",
              "  'disc.': 25,\n",
              "  'name': 'Nivea Moisture Body Lotion       ',\n",
              "  'price': 340,\n",
              "  'quantity': 20},\n",
              " '2': {'category': 'staples',\n",
              "  'disc.': 23,\n",
              "  'name': 'Sugar                             ',\n",
              "  'price': 100,\n",
              "  'quantity': 20},\n",
              " '20': {'category': 'personal care',\n",
              "  'disc.': 50,\n",
              "  'name': \"Johnson's Baby soap              \",\n",
              "  'price': 250,\n",
              "  'quantity': 3},\n",
              " '21': {'category': 'Household Care',\n",
              "  'disc.': 40,\n",
              "  'name': 'Surf excel matic detergent       ',\n",
              "  'price': 200,\n",
              "  'quantity': 18},\n",
              " '22': {'category': 'Household Care',\n",
              "  'disc.': 14,\n",
              "  'name': 'Pril dishwash liquid             ',\n",
              "  'price': 40,\n",
              "  'quantity': 3},\n",
              " '23': {'category': 'Household Care',\n",
              "  'disc.': 20,\n",
              "  'name': 'ALL Out Mosquito Refill          ',\n",
              "  'price': 270,\n",
              "  'quantity': 3},\n",
              " '24': {'category': 'Snacks & Beverages',\n",
              "  'disc.': 32,\n",
              "  'name': 'Bourbon Biscuits                 ',\n",
              "  'price': 60,\n",
              "  'quantity': 5},\n",
              " '25': {'category': 'Snacks & Beverages',\n",
              "  'disc.': 12,\n",
              "  'name': 'Parle Rusk                       ',\n",
              "  'price': 50,\n",
              "  'quantity': 27},\n",
              " '26': {'category': 'Snacks & Beverages',\n",
              "  'disc.': 34,\n",
              "  'name': 'Kurkure                          ',\n",
              "  'price': 30,\n",
              "  'quantity': 19},\n",
              " '27': {'category': 'Snacks & Beverages',\n",
              "  'disc.': 0,\n",
              "  'name': 'Lipton Green Tea                 ',\n",
              "  'price': 120,\n",
              "  'quantity': 13},\n",
              " '28': {'category': 'Snacks & Beverages',\n",
              "  'disc.': 25,\n",
              "  'name': 'Moong dal                        ',\n",
              "  'price': 250,\n",
              "  'quantity': 11},\n",
              " '29': {'category': 'Snacks & Beverages',\n",
              "  'disc.': 0,\n",
              "  'name': 'Coca-Cola                        ',\n",
              "  'price': 30,\n",
              "  'quantity': 10},\n",
              " '3': {'category': 'staples',\n",
              "  'disc.': 30,\n",
              "  'name': 'Coffee                            ',\n",
              "  'price': 300,\n",
              "  'quantity': 20},\n",
              " '30': {'category': 'Snacks & Beverages',\n",
              "  'disc.': 54,\n",
              "  'name': 'Glucon-D                         ',\n",
              "  'price': 109,\n",
              "  'quantity': 18},\n",
              " '4': {'category': 'staple',\n",
              "  'disc.': 0,\n",
              "  'name': 'Chana                             ',\n",
              "  'price': 80,\n",
              "  'quantity': 10},\n",
              " '5': {'category': 'staples',\n",
              "  'disc.': 14,\n",
              "  'name': 'Refined oil                       ',\n",
              "  'price': 180,\n",
              "  'quantity': 10},\n",
              " '6': {'category': 'staples',\n",
              "  'disc.': 34,\n",
              "  'name': 'Cashews                           ',\n",
              "  'price': 600,\n",
              "  'quantity': 3},\n",
              " '7': {'category': 'staples',\n",
              "  'disc.': 0,\n",
              "  'name': 'Rice Flour                        ',\n",
              "  'price': 500,\n",
              "  'quantity': 10},\n",
              " '8': {'category': 'staples',\n",
              "  'disc.': 0,\n",
              "  'name': 'Wheat Atta                        ',\n",
              "  'price': 200,\n",
              "  'quantity': 5},\n",
              " '9': {'category': 'staples',\n",
              "  'disc.': 0,\n",
              "  'name': 'Chaat masala                      ',\n",
              "  'price': 50,\n",
              "  'quantity': 10}}"
            ]
          },
          "metadata": {},
          "execution_count": 115
        }
      ]
    },
    {
      "cell_type": "code",
      "metadata": {
        "colab": {
          "base_uri": "https://localhost:8080/"
        },
        "id": "S5H6eWkjUP94",
        "outputId": "f91bf97b-7ebd-42d6-a51a-7bdcc30d6a25"
      },
      "source": [
        "print(\"Items available in the grocery store are:\\n\")\n",
        "  \n",
        "print(grocery)\n",
        "print('\\nEnter the product id and quantity you would like to buy:')\n",
        "buy={}\n",
        "for i in range (0,5):\n",
        "    n=input()\n",
        "    m=n.split(' ')\n",
        "    buy[m[0]] = int(m[1])"
      ],
      "execution_count": 116,
      "outputs": [
        {
          "name": "stdout",
          "output_type": "stream",
          "text": [
            "Items available in the grocery store are:\n",
            "\n",
            "{'1': {'name': 'Rajma                             ', 'price': 250, 'quantity': 10, 'category': 'staples', 'disc.': 22}, '2': {'name': 'Sugar                             ', 'price': 100, 'quantity': 20, 'category': 'staples', 'disc.': 23}, '3': {'name': 'Coffee                            ', 'price': 300, 'quantity': 20, 'category': 'staples', 'disc.': 30}, '4': {'name': 'Chana                             ', 'price': 80, 'quantity': 10, 'category': 'staple', 'disc.': 0}, '5': {'name': 'Refined oil                       ', 'price': 180, 'quantity': 10, 'category': 'staples', 'disc.': 14}, '6': {'name': 'Cashews                           ', 'price': 600, 'quantity': 3, 'category': 'staples', 'disc.': 34}, '7': {'name': 'Rice Flour                        ', 'price': 500, 'quantity': 10, 'category': 'staples', 'disc.': 0}, '8': {'name': 'Wheat Atta                        ', 'price': 200, 'quantity': 5, 'category': 'staples', 'disc.': 0}, '9': {'name': 'Chaat masala                      ', 'price': 50, 'quantity': 10, 'category': 'staples', 'disc.': 0}, '10': {'name': 'Chilli Powder                    ', 'price': 160, 'quantity': 24, 'category': 'staples', 'disc.': 10}, '11': {'name': 'Sandalwood face wash             ', 'price': 227, 'quantity': 8, 'category': 'personl care', 'disc.': 20}, '12': {'name': 'Dettol Hand Wash                 ', 'price': 88, 'quantity': 10, 'category': 'personal care', 'disc.': 15}, '13': {'name': 'Himalaya scrub                   ', 'price': 173, 'quantity': 10, 'category': 'personal care', 'disc.': 35}, '14': {'name': 'Cinthol soap                     ', 'price': 100, 'quantity': 3, 'category': 'personal care', 'disc.': 15}, '15': {'name': 'Coconut HairOil                  ', 'price': 150, 'quantity': 10, 'category': 'personal care', 'disc.': 25}, '16': {'name': 'Head & Shoulders shampoo         ', 'price': 227, 'quantity': 8, 'category': 'personl care', 'disc.': 11}, '17': {'name': 'Colgate Tooothpaste              ', 'price': 300, 'quantity': 4, 'category': 'personal care', 'disc.': 17}, '18': {'name': 'Axe Body Spray                   ', 'price': 150, 'quantity': 15, 'category': 'personal care', 'disc.': 0}, '19': {'name': 'Nivea Moisture Body Lotion       ', 'price': 340, 'quantity': 20, 'category': 'personal care', 'disc.': 25}, '20': {'name': \"Johnson's Baby soap              \", 'price': 250, 'quantity': 3, 'category': 'personal care', 'disc.': 50}, '21': {'name': 'Surf excel matic detergent       ', 'price': 200, 'quantity': 18, 'category': 'Household Care', 'disc.': 40}, '22': {'name': 'Pril dishwash liquid             ', 'price': 40, 'quantity': 3, 'category': 'Household Care', 'disc.': 14}, '23': {'name': 'ALL Out Mosquito Refill          ', 'price': 270, 'quantity': 3, 'category': 'Household Care', 'disc.': 20}, '24': {'name': 'Bourbon Biscuits                 ', 'price': 60, 'quantity': 5, 'category': 'Snacks & Beverages', 'disc.': 32}, '25': {'name': 'Parle Rusk                       ', 'price': 50, 'quantity': 27, 'category': 'Snacks & Beverages', 'disc.': 12}, '26': {'name': 'Kurkure                          ', 'price': 30, 'quantity': 19, 'category': 'Snacks & Beverages', 'disc.': 34}, '27': {'name': 'Lipton Green Tea                 ', 'price': 120, 'quantity': 13, 'category': 'Snacks & Beverages', 'disc.': 0}, '28': {'name': 'Moong dal                        ', 'price': 250, 'quantity': 11, 'category': 'Snacks & Beverages', 'disc.': 25}, '29': {'name': 'Coca-Cola                        ', 'price': 30, 'quantity': 10, 'category': 'Snacks & Beverages', 'disc.': 0}, '30': {'name': 'Glucon-D                         ', 'price': 109, 'quantity': 18, 'category': 'Snacks & Beverages', 'disc.': 54}}\n",
            "\n",
            "Enter the product id and quantity you would like to buy:\n",
            "1 1\n",
            "2 2\n",
            "3 3\n",
            "4 4\n",
            "5 6\n"
          ]
        }
      ]
    },
    {
      "cell_type": "code",
      "metadata": {
        "colab": {
          "base_uri": "https://localhost:8080/"
        },
        "id": "HtYI98ZCUQA3",
        "outputId": "e12d6e65-2bee-4838-e20b-13cb6f855ea3"
      },
      "source": [
        "print(\"\\t\\t\\t\\t ALL IN ONE Grocery store\")\n",
        "print('---------------------------------------------------------------------------------------')\n",
        "print(\"S.no\\t\",\"\\tproducts\\t\\t\\t\",\"\\tQ\\t\",\"Price\")\n",
        "print('----------------------------------------------------------------------------------------')\n",
        "amt=0.00\n",
        "for i in buy:    \n",
        "  if(i in grocery.keys()):\n",
        "    print( '{}\\t  \\t{} \\t{} \\t{}'.format(i,grocery[i]['name'],buy[i],buy[i]*grocery[i]['price']))\n",
        "    amt+=buy[i]*grocery[i]['price']\n",
        "print('----------------------------------------------------------------------------------------')\n",
        "print('TOTAL AMOUNT: ',amt)\n",
        "print(\"************************THANK YOU, PLEASE VISIT AGAIN***********************************\")\n",
        "\n",
        "\n",
        "total={}\n",
        "s=1\n",
        "for i in buy:\n",
        "  if(i in grocery.keys()):\n",
        "        sne={}\n",
        "        sne['product'] = grocery[i]['name']\n",
        "        sne['quantity'] = buy[i]\n",
        "        sne['price'] = grocery[i]['price']\n",
        "        sne['cost'] = grocery[i]['price']*(1.0 - rec[i]['disc.']/100.0)\n",
        "        sne['total'] = sne['cost']*buy[i]\n",
        "        total[s] = sne\n",
        "        s=s+1"
      ],
      "execution_count": 117,
      "outputs": [
        {
          "output_type": "stream",
          "name": "stdout",
          "text": [
            "\t\t\t\t ALL IN ONE Grocery store\n",
            "---------------------------------------------------------------------------------------\n",
            "S.no\t \tproducts\t\t\t \tQ\t Price\n",
            "----------------------------------------------------------------------------------------\n",
            "1\t  \tRajma                              \t1 \t250\n",
            "2\t  \tSugar                              \t2 \t200\n",
            "3\t  \tCoffee                             \t3 \t900\n",
            "4\t  \tChana                              \t4 \t320\n",
            "5\t  \tRefined oil                        \t6 \t1080\n",
            "----------------------------------------------------------------------------------------\n",
            "TOTAL AMOUNT:  2750.0\n",
            "************************THANK YOU, PLEASE VISIT AGAIN***********************************\n"
          ]
        }
      ]
    },
    {
      "cell_type": "code",
      "metadata": {
        "id": "IaT5AZQOUQDL"
      },
      "source": [
        "import time"
      ],
      "execution_count": 118,
      "outputs": []
    },
    {
      "cell_type": "code",
      "metadata": {
        "colab": {
          "base_uri": "https://localhost:8080/",
          "height": 35
        },
        "id": "s6dYPkdOUQFI",
        "outputId": "7d553cc4-bf33-424f-ceb5-1ab5a5ecf89a"
      },
      "source": [
        "time.ctime()"
      ],
      "execution_count": 119,
      "outputs": [
        {
          "output_type": "execute_result",
          "data": {
            "application/vnd.google.colaboratory.intrinsic+json": {
              "type": "string"
            },
            "text/plain": [
              "'Mon Sep  6 06:11:52 2021'"
            ]
          },
          "metadata": {},
          "execution_count": 119
        }
      ]
    },
    {
      "cell_type": "code",
      "metadata": {
        "id": "r8v_vAv8UQHP"
      },
      "source": [
        "js = json.dumps(total)\n",
        "\n",
        "fd = open(\"purchases.json\",'w')\n",
        "\n",
        "fd.write(js)\n",
        "\n",
        "fd.close()"
      ],
      "execution_count": 120,
      "outputs": []
    },
    {
      "cell_type": "code",
      "metadata": {
        "id": "aRC5pDozUQJj"
      },
      "source": [
        "fd = open(\"purchases.json\", 'r')\n",
        "txt = fd.read()\n",
        "fd.close()"
      ],
      "execution_count": 121,
      "outputs": []
    },
    {
      "cell_type": "code",
      "metadata": {
        "id": "1gDYYrPWUQMA"
      },
      "source": [
        "js = json.dumps(total)\n",
        "\n",
        "fd = open(\"purchases.txt\",'w')\n",
        "\n",
        "fd.write(js)\n",
        "\n",
        "fd.close()"
      ],
      "execution_count": 122,
      "outputs": []
    },
    {
      "cell_type": "code",
      "metadata": {
        "id": "PRTgcTQ8UQOI"
      },
      "source": [
        "fd = open(\"purchases.txt\", 'r')\n",
        "txt= fd.read()\n",
        "fd.close()"
      ],
      "execution_count": 123,
      "outputs": []
    },
    {
      "cell_type": "code",
      "metadata": {
        "colab": {
          "base_uri": "https://localhost:8080/",
          "height": 86
        },
        "id": "St6Q61LnVRSI",
        "outputId": "9b8aa476-a2a7-44f1-b541-d2860f1bdd24"
      },
      "source": [
        "txt"
      ],
      "execution_count": 124,
      "outputs": [
        {
          "output_type": "execute_result",
          "data": {
            "application/vnd.google.colaboratory.intrinsic+json": {
              "type": "string"
            },
            "text/plain": [
              "'{\"1\": {\"product\": \"Rajma                             \", \"quantity\": 1, \"price\": 250, \"cost\": 195.0, \"total\": 195.0}, \"2\": {\"product\": \"Sugar                             \", \"quantity\": 2, \"price\": 100, \"cost\": 77.0, \"total\": 154.0}, \"3\": {\"product\": \"Coffee                            \", \"quantity\": 3, \"price\": 300, \"cost\": 210.0, \"total\": 630.0}, \"4\": {\"product\": \"Chana                             \", \"quantity\": 4, \"price\": 80, \"cost\": 80.0, \"total\": 320.0}, \"5\": {\"product\": \"Refined oil                       \", \"quantity\": 6, \"price\": 180, \"cost\": 154.8, \"total\": 928.8000000000001}}'"
            ]
          },
          "metadata": {},
          "execution_count": 124
        }
      ]
    },
    {
      "cell_type": "code",
      "metadata": {
        "id": "GZLQJrVlVRUx"
      },
      "source": [
        "items_list = json.loads(txt)"
      ],
      "execution_count": 125,
      "outputs": []
    },
    {
      "cell_type": "code",
      "metadata": {
        "colab": {
          "base_uri": "https://localhost:8080/"
        },
        "id": "hMgzFWYCVRXR",
        "outputId": "e5b9ac06-91b1-45d3-c985-1ba94b1a392d"
      },
      "source": [
        "items_list"
      ],
      "execution_count": 126,
      "outputs": [
        {
          "output_type": "execute_result",
          "data": {
            "text/plain": [
              "{'1': {'cost': 195.0,\n",
              "  'price': 250,\n",
              "  'product': 'Rajma                             ',\n",
              "  'quantity': 1,\n",
              "  'total': 195.0},\n",
              " '2': {'cost': 77.0,\n",
              "  'price': 100,\n",
              "  'product': 'Sugar                             ',\n",
              "  'quantity': 2,\n",
              "  'total': 154.0},\n",
              " '3': {'cost': 210.0,\n",
              "  'price': 300,\n",
              "  'product': 'Coffee                            ',\n",
              "  'quantity': 3,\n",
              "  'total': 630.0},\n",
              " '4': {'cost': 80.0,\n",
              "  'price': 80,\n",
              "  'product': 'Chana                             ',\n",
              "  'quantity': 4,\n",
              "  'total': 320.0},\n",
              " '5': {'cost': 154.8,\n",
              "  'price': 180,\n",
              "  'product': 'Refined oil                       ',\n",
              "  'quantity': 6,\n",
              "  'total': 928.8000000000001}}"
            ]
          },
          "metadata": {},
          "execution_count": 126
        }
      ]
    }
  ]
}